{
  "nbformat": 4,
  "nbformat_minor": 0,
  "metadata": {
    "colab": {
      "provenance": [],
      "authorship_tag": "ABX9TyPYELhKsmuUXijO5kZQMTFW",
      "include_colab_link": true
    },
    "kernelspec": {
      "name": "python3",
      "display_name": "Python 3"
    },
    "language_info": {
      "name": "python"
    }
  },
  "cells": [
    {
      "cell_type": "markdown",
      "metadata": {
        "id": "view-in-github",
        "colab_type": "text"
      },
      "source": [
        "<a href=\"https://colab.research.google.com/github/MuhamadRaihan356/NGOBAR/blob/main/Latihan4.ipynb\" target=\"_parent\"><img src=\"https://colab.research.google.com/assets/colab-badge.svg\" alt=\"Open In Colab\"/></a>"
      ]
    },
    {
      "cell_type": "markdown",
      "source": [
        "Input Data Siswa:\n",
        "\n",
        "o Program harus meminta pengguna untuk memasukkan data siswa, termasuk nama,\n",
        "NIM, jurusan, dan nilai.\n",
        "\n",
        "o Data siswa harus disimpan dalam sebuah list of dictionaries, di mana setiap\n",
        "dictionary berisi informasi tentang satu siswa.\n",
        "\n",
        "\n",
        "Menampilkan Data Siswa:\n",
        "\n",
        "o Program harus dapat menampilkan semua data siswa yang telah dimasukkan.\n",
        "\n",
        "o Pengguna dapat mencari siswa berdasarkan NIM dan menampilkan informasinya.\n",
        "\n",
        "\n",
        "• Menghitung Rata-rata Nilai:\n",
        "\n",
        "o Program harus menghitung dan menampilkan rata-rata nilai dari semua siswa yang\n",
        "telah dimasukkan.\n",
        "\n",
        "o Jika tidak ada siswa yang dimasukkan, program harus menampilkan pesan yang\n",
        "sesuai.\n",
        "\n",
        "\n",
        "• Menu Pilihan:\n",
        "\n",
        "o Program harus memiliki menu pilihan yang memungkinkan pengguna untuk:\n",
        "\n",
        "o Menambahkan data siswa baru.\n",
        "\n",
        "o Menampilkan semua data siswa.\n",
        "\n",
        "o Mencari siswa berdasarkan NIM.\n",
        "\n",
        "o Menghitung rata-rata nilai.\n",
        "\n",
        "o Keluar dari program."
      ],
      "metadata": {
        "id": "41Gzm9Q3hBxx"
      }
    },
    {
      "cell_type": "code",
      "execution_count": null,
      "metadata": {
        "colab": {
          "base_uri": "https://localhost:8080/"
        },
        "id": "6JgUHjFVgxO-",
        "outputId": "62c00949-03ea-4910-beae-722b902e09a5"
      },
      "outputs": [
        {
          "metadata": {
            "tags": null
          },
          "name": "stdout",
          "output_type": "stream",
          "text": [
            "\n",
            "=== Sistem Manajemen Siswa ===\n",
            "1. Tambah Data Siswa\n",
            "2. Tampilkan Semua Data Siswa\n",
            "3. Cari Siswa Berdasarkan NIM\n",
            "4. Hitung Rata-rata Nilai\n",
            "5. Keluar\n",
            "===============================\n",
            "Data siswa berhasil ditambahkan.\n",
            "\n",
            "=== Sistem Manajemen Siswa ===\n",
            "1. Tambah Data Siswa\n",
            "2. Tampilkan Semua Data Siswa\n",
            "3. Cari Siswa Berdasarkan NIM\n",
            "4. Hitung Rata-rata Nilai\n",
            "5. Keluar\n",
            "===============================\n",
            "Nama: denis, NIM: 12345, Jurusan: seni pesawat, Nilai: 12.0\n",
            "\n",
            "=== Sistem Manajemen Siswa ===\n",
            "1. Tambah Data Siswa\n",
            "2. Tampilkan Semua Data Siswa\n",
            "3. Cari Siswa Berdasarkan NIM\n",
            "4. Hitung Rata-rata Nilai\n",
            "5. Keluar\n",
            "===============================\n"
          ]
        }
      ],
      "source": [
        "def display_menu():\n",
        "    print(\"\\n=== Sistem Manajemen Siswa ===\")\n",
        "    print(\"1. Tambah Data Siswa\")\n",
        "    print(\"2. Tampilkan Semua Data Siswa\")\n",
        "    print(\"3. Cari Siswa Berdasarkan NIM\")\n",
        "    print(\"4. Hitung Rata-rata Nilai\")\n",
        "    print(\"5. Keluar\")\n",
        "    print(\"===============================\")\n",
        "\n",
        "def add_student(students):\n",
        "    name = input(\"Masukkan Nama Siswa: \")\n",
        "    nim = input(\"Masukkan NIM Siswa: \")\n",
        "    major = input(\"Masukkan Jurusan Siswa: \")\n",
        "\n",
        "    while True:\n",
        "        try:\n",
        "            grade = float(input(\"Masukkan Nilai Siswa: \"))\n",
        "            break\n",
        "        except ValueError:\n",
        "            print(\"Nilai harus berupa angka. Silakan coba lagi.\")\n",
        "\n",
        "    student = {\n",
        "        'name': name,\n",
        "        'nim': nim,\n",
        "        'major': major,\n",
        "        'grade': grade\n",
        "    }\n",
        "    students.append(student)\n",
        "    print(\"Data siswa berhasil ditambahkan.\")\n",
        "\n",
        "def display_students(students):\n",
        "    if not students:\n",
        "        print(\"Tidak ada data siswa yang tersedia.\")\n",
        "        return\n",
        "\n",
        "    print(\"\\n=== Data Siswa ===\")\n",
        "    for student in students:\n",
        "        print(f\"Nama: {student['name']}, NIM: {student['nim']}, Jurusan: {student['major']}, Nilai: {student['grade']}\")\n",
        "    print(\"===================\")\n",
        "\n",
        "def search_student(students):\n",
        "    nim = input(\"Masukkan NIM yang dicari: \")\n",
        "    for student in students:\n",
        "        if student['nim'] == nim:\n",
        "            print(f\"Nama: {student['name']}, NIM: {student['nim']}, Jurusan: {student['major']}, Nilai: {student['grade']}\")\n",
        "            return\n",
        "    print(\"Siswa dengan NIM tersebut tidak ditemukan.\")\n",
        "\n",
        "def calculate_average_grade(students):\n",
        "    if not students:\n",
        "        print(\"Tidak ada data siswa yang tersedia untuk menghitung rata-rata.\")\n",
        "        return\n",
        "\n",
        "    total_grade = sum(student['grade'] for student in students)\n",
        "    average_grade = total_grade / len(students)\n",
        "    print(f\"Rata-rata nilai siswa: {average_grade:.2f}\")\n",
        "\n",
        "def main():\n",
        "    students = []\n",
        "    while True:\n",
        "        display_menu()\n",
        "        choice = input(\"Pilih menu (1-5): \")\n",
        "\n",
        "        if choice == '1':\n",
        "            add_student(students)\n",
        "        elif choice == '2':\n",
        "            display_students(students)\n",
        "        elif choice == '3':\n",
        "            search_student(students)\n",
        "        elif choice == '4':\n",
        "            calculate_average_grade(students)\n",
        "        elif choice == '5':\n",
        "            print(\"Terima kasih! Program selesai.\")\n",
        "            break\n",
        "        else:\n",
        "            print(\"Pilihan tidak valid. Silakan coba lagi.\")\n",
        "\n",
        "if __name__ == \"__main__\":\n",
        "    main()"
      ]
    }
  ]
}