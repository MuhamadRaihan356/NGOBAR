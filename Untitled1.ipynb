{
  "nbformat": 4,
  "nbformat_minor": 0,
  "metadata": {
    "colab": {
      "provenance": [],
      "toc_visible": true,
      "authorship_tag": "ABX9TyMVQbz8fIz8AZKl/T3RbUHn",
      "include_colab_link": true
    },
    "kernelspec": {
      "name": "python3",
      "display_name": "Python 3"
    },
    "language_info": {
      "name": "python"
    }
  },
  "cells": [
    {
      "cell_type": "markdown",
      "metadata": {
        "id": "view-in-github",
        "colab_type": "text"
      },
      "source": [
        "<a href=\"https://colab.research.google.com/github/MuhamadRaihan356/NGOBAR/blob/main/Untitled1.ipynb\" target=\"_parent\"><img src=\"https://colab.research.google.com/assets/colab-badge.svg\" alt=\"Open In Colab\"/></a>"
      ]
    },
    {
      "cell_type": "code",
      "source": [
        "soal 1\n",
        "Manipulasi String dengan Slicing\n",
        "\n",
        "kalimat = \"Hari Ini Adalah Hari Ketiga Saya Mengikuti Kegiatan Ngobar\"\n",
        "\n",
        "Ambil dan tampilkan 6 karakter pertama dari string tersebut.\n",
        "\n",
        "Ambil dan tampilkan 5 karakter terakhir dari string tersebut.\n",
        "\n",
        "Ambil dan tampilkan kata \"Ketiga\" dari string tersebut.\n",
        "\n",
        "Tampilkan string tersebut dengan urutan terbalik.\n",
        "\n"
      ],
      "metadata": {
        "id": "GGw1OEiqZDJX"
      },
      "execution_count": null,
      "outputs": []
    },
    {
      "cell_type": "code",
      "source": [
        "sliceing_string = \"Hari Ini Adalah Hari ketiga Saya Mengikuti Kegiatan Ngobar\"\n",
        "print(sliceing_string)\n",
        "\n",
        "print(sliceing_string[:6])\n",
        "print(sliceing_string[-5:])\n",
        "print(sliceing_string[9:15])\n",
        "print(sliceing_string[::-1])\n"
      ],
      "metadata": {
        "colab": {
          "base_uri": "https://localhost:8080/"
        },
        "id": "PGNOZnaAZG-p",
        "outputId": "d5de9bd6-74ab-45a2-d7f8-03f616b626ad"
      },
      "execution_count": null,
      "outputs": [
        {
          "output_type": "stream",
          "name": "stdout",
          "text": [
            "Hari Ini Adalah Hari ketiga Saya Mengikuti Kegiatan Ngobar\n",
            "Hari I\n",
            "gobar\n",
            "Adalah\n",
            "rabogN nataigeK itukigneM ayaS agitek iraH haladA inI iraH\n"
          ]
        }
      ]
    },
    {
      "cell_type": "markdown",
      "source": [],
      "metadata": {
        "id": "1LIA34t7ZDAx"
      }
    },
    {
      "cell_type": "markdown",
      "source": [
        "Soal No 2\n",
        "\n",
        "Concatenation String\n",
        "\n",
        "Buatlah 3 Variabel String (Kalimatnya Terserah) Lalu Kerjakan:\n",
        "\n",
        "Gabungkan ketiga Variabel menggunakan operator + dan tampilkan hasilnya.\n",
        "Gabungkan ketiga Variabel menggunakan f-string dan tampilkan hasilnya.\n",
        "Gabungkan ketiga kata di atas menggunakan method .join() dan tampilkan hasilnyak"
      ],
      "metadata": {
        "id": "NvdoSBFYcXFK"
      }
    },
    {
      "cell_type": "code",
      "execution_count": null,
      "metadata": {
        "colab": {
          "base_uri": "https://localhost:8080/"
        },
        "id": "j5DIppl_ZBkc",
        "outputId": "ef30cd5c-cb12-4215-a399-ee3d9cb6e88f"
      },
      "outputs": [
        {
          "output_type": "stream",
          "name": "stdout",
          "text": [
            "Agus sedih banget\n",
            "Agus sedih banget\n",
            "Agus sedih banget\n"
          ]
        }
      ],
      "source": [
        "kata1=\"Agus\"\n",
        "kata2=\"sedih\"\n",
        "kata3=\"banget\"\n",
        "\n",
        "hasil = kata1 + \" \" + kata2 + \" \" + kata3\n",
        "print(hasil)\n",
        "\n",
        "hasil2_fstring = f\"{kata1} {kata2} {kata3}\"\n",
        "print(hasil2_fstring)\n",
        "\n",
        "daftar_kata = [kata1, kata2 ,kata3]\n",
        "hasil_join = \" \".join(daftar_kata)\n",
        "print(hasil_join)\n"
      ]
    },
    {
      "cell_type": "markdown",
      "source": [
        "Soal No 3 Menghitung Jumlah Karakter dan Kata\n",
        "\n",
        "tex_soal=\"aku adalah seorang kapten dari sebuah tim sepak bola liga 3 liga belgia\"\n",
        "\n",
        "yang harus dilakukan:\n",
        "\n",
        "Hitung dan tampilkan jumlah karakter dalam string tersebut.\n",
        "Hitung dan tampilkan jumlah kata dalam string tersebut."
      ],
      "metadata": {
        "id": "rcNHicyugnyb"
      }
    },
    {
      "cell_type": "code",
      "source": [
        "tex_soal=\"aku adalah seorang kapten dari sebuah tim sepak bola liga 3 liga belgia\"\n",
        "print(tex_soal)\n",
        "\n",
        "hitungText= len(tex_soal)\n",
        "print(f\"jumlah karakter:{hitungText}\")\n",
        "\n",
        "data = tex_soal.split()\n",
        "hitungKata = len(data)\n",
        "print(f\"{data}\")\n",
        "print(f\"jumlah kata:{hitungKata}\")\n",
        "\n"
      ],
      "metadata": {
        "colab": {
          "base_uri": "https://localhost:8080/"
        },
        "id": "tG5cbyqQg-Tz",
        "outputId": "acc824b9-a518-4704-be50-f06b280c2233"
      },
      "execution_count": null,
      "outputs": [
        {
          "output_type": "stream",
          "name": "stdout",
          "text": [
            "aku adalah seorang kapten dari sebuah tim sepak bola liga 3 liga belgia\n",
            "jumlah karakter:71\n",
            "['aku', 'adalah', 'seorang', 'kapten', 'dari', 'sebuah', 'tim', 'sepak', 'bola', 'liga', '3', 'liga', 'belgia']\n",
            "jumlah kata:13\n"
          ]
        }
      ]
    },
    {
      "cell_type": "code",
      "source": [
        "import numpy as np\n",
        "\n",
        "arr = np.array([1, 5, 2, 9, 7, 3])\n",
        "print(arr.mean())\n",
        "print(arr.max())\n",
        "print(arr.min())"
      ],
      "metadata": {
        "colab": {
          "base_uri": "https://localhost:8080/"
        },
        "id": "QgWKOYKwpF8W",
        "outputId": "95944a52-060f-4731-a258-cfee5a4c8f0b"
      },
      "execution_count": null,
      "outputs": [
        {
          "output_type": "stream",
          "name": "stdout",
          "text": [
            "4.5\n",
            "9\n",
            "1\n"
          ]
        }
      ]
    }
  ]
}